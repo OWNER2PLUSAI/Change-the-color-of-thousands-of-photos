{
 "cells": [
  {
   "cell_type": "code",
   "execution_count": 1,
   "id": "3781ccbf",
   "metadata": {},
   "outputs": [],
   "source": [
    "### import library we need it\n",
    "\n",
    "import cv2 as  cv\n",
    "import os\n",
    "import time"
   ]
  },
  {
   "cell_type": "code",
   "execution_count": 5,
   "id": "d9a2db5c",
   "metadata": {},
   "outputs": [
    {
     "data": {
      "text/plain": [
       "[]"
      ]
     },
     "execution_count": 5,
     "metadata": {},
     "output_type": "execute_result"
    }
   ],
   "source": [
    "## be careful for set path beacuse i use path in diffrent place\n",
    "\n",
    "### Desired photo input path\n",
    "\n",
    "path = \"INPUT\"\n",
    "\n",
    "###  Desired photo output path\n",
    "\n",
    "new_path = \"OUTPOT\"\n",
    "\n",
    "# this show u all of image names u have in directory\n",
    "\n",
    "# i use path |there|  ........and |there|\n",
    "\n",
    "os.listdir(path)[0 :len(os.listdir(path))]"
   ]
  },
  {
   "cell_type": "code",
   "execution_count": 6,
   "id": "a9ab856f",
   "metadata": {},
   "outputs": [],
   "source": [
    "for image in os.listdir(path)[0 :len(os.listdir(path))]:\n",
    "    \n",
    "    \n",
    "#      i use path |there|   \n",
    "    img = cv.imread(path + \"/{} \".format(image))\n",
    "    \n",
    "    \n",
    "    \n",
    "#change colorformat u want      |......there....|     \n",
    "    img_gray = cv.cvtColor(img, cv.COLOR_BGR2GRAY)\n",
    "    imag_resize = cv.resize(img_gray, (800, 600))\n",
    "    cv.imwrite(new_path + \"/{} \".format(image), img_gray)\n",
    "    print(new_path + \"/{} \".format(image), \"   :::::DONE \")\n",
    "\n",
    "\n",
    "\n",
    "#     THIS FOR TEST FOR img_gray.... NOT IMPORTANT .....\n",
    "#     imag_resize = cv.resize(img_gray, (800, 600))\n",
    "#     cv.imshow(path + \"/{} \".format(image) , imag_resize)\n",
    "#     cv.waitKey(4000)\n",
    "#     cv.destroyAllWindows()\n",
    "#     time.sleep(1)\n"
   ]
  }
 ],
 "metadata": {
  "kernelspec": {
   "display_name": "Python 3 (ipykernel)",
   "language": "python",
   "name": "python3"
  },
  "language_info": {
   "codemirror_mode": {
    "name": "ipython",
    "version": 3
   },
   "file_extension": ".py",
   "mimetype": "text/x-python",
   "name": "python",
   "nbconvert_exporter": "python",
   "pygments_lexer": "ipython3",
   "version": "3.10.1"
  },
  "vscode": {
   "interpreter": {
    "hash": "fccf4af24601f63d4dc7e4cfea909002a0a964b6ef1e66db731d4adba361d32c"
   }
  }
 },
 "nbformat": 4,
 "nbformat_minor": 5
}
